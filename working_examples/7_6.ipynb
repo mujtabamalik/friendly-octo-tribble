{
 "cells": [
  {
   "cell_type": "code",
   "execution_count": 1,
   "id": "cardiac-giving",
   "metadata": {},
   "outputs": [
    {
     "ename": "ImportError",
     "evalue": "cannot import name 'html' from 'dash' (/Users/Mujtaba/Library/Python/3.8/lib/python/site-packages/dash/__init__.py)",
     "output_type": "error",
     "traceback": [
      "\u001b[0;31m---------------------------------------------------------------------------\u001b[0m",
      "\u001b[0;31mImportError\u001b[0m                               Traceback (most recent call last)",
      "\u001b[0;32m<ipython-input-1-ff36d33cad54>\u001b[0m in \u001b[0;36m<module>\u001b[0;34m\u001b[0m\n\u001b[1;32m      2\u001b[0m \u001b[0;32mimport\u001b[0m \u001b[0mplotly\u001b[0m\u001b[0;34m.\u001b[0m\u001b[0mexpress\u001b[0m \u001b[0;32mas\u001b[0m \u001b[0mpx\u001b[0m\u001b[0;34m\u001b[0m\u001b[0;34m\u001b[0m\u001b[0m\n\u001b[1;32m      3\u001b[0m \u001b[0;32mfrom\u001b[0m \u001b[0mjupyter_dash\u001b[0m \u001b[0;32mimport\u001b[0m \u001b[0mJupyterDash\u001b[0m\u001b[0;34m\u001b[0m\u001b[0;34m\u001b[0m\u001b[0m\n\u001b[0;32m----> 4\u001b[0;31m \u001b[0;32mfrom\u001b[0m \u001b[0mdash\u001b[0m \u001b[0;32mimport\u001b[0m \u001b[0mhtml\u001b[0m\u001b[0;34m\u001b[0m\u001b[0;34m\u001b[0m\u001b[0m\n\u001b[0m\u001b[1;32m      5\u001b[0m \u001b[0;32mfrom\u001b[0m \u001b[0mdash\u001b[0m \u001b[0;32mimport\u001b[0m \u001b[0mdcc\u001b[0m\u001b[0;34m\u001b[0m\u001b[0;34m\u001b[0m\u001b[0m\n\u001b[1;32m      6\u001b[0m \u001b[0;32mfrom\u001b[0m \u001b[0mdash\u001b[0m\u001b[0;34m.\u001b[0m\u001b[0mdependencies\u001b[0m \u001b[0;32mimport\u001b[0m \u001b[0mOutput\u001b[0m\u001b[0;34m,\u001b[0m \u001b[0mInput\u001b[0m\u001b[0;34m\u001b[0m\u001b[0;34m\u001b[0m\u001b[0m\n",
      "\u001b[0;31mImportError\u001b[0m: cannot import name 'html' from 'dash' (/Users/Mujtaba/Library/Python/3.8/lib/python/site-packages/dash/__init__.py)"
     ]
    }
   ],
   "source": [
    "import pandas as pd\n",
    "import plotly.express as px\n",
    "from jupyter_dash import JupyterDash\n",
    "from dash import html\n",
    "from dash import dcc\n",
    "from dash.dependencies import Output, Input\n",
    "import dash_bootstrap_components as dbc\n",
    "poverty = pd.read_csv('../../data/poverty.csv',low_memory=False)\n",
    "series = pd.read_csv('../../data/PovStatsSeries.csv',low_memory=False)\n",
    "year = 2016\n",
    "indicator = 'one two three four five six seven'\n",
    "\n",
    "def multiline_indicator(indicator):\n",
    "    final = []\n",
    "    split = indicator.split()\n",
    "    for i in range(0, len(split), 3):\n",
    "        final.append(' '.join(split[i:i+3]))\n",
    "    return '<br>'.join(final)"
   ]
  },
  {
   "cell_type": "code",
   "execution_count": null,
   "id": "surprising-lodging",
   "metadata": {},
   "outputs": [],
   "source": [
    "%%capture\n",
    "app = JupyterDash(__name__)\n",
    "\n",
    "app.layout = html.Div([\n",
    "    dcc.Dropdown(id='indicator_dropdown',\n",
    "                 value='GINI index (World Bank estimate)',\n",
    "                 options=[{'label': indicator, 'value': indicator}\n",
    "                          for indicator in poverty.columns[3:54]]),\n",
    "    dcc.Graph(id='indicator_map_chart'),\n",
    "])\n",
    "\n",
    "@app.callback(Output('indicator_map_chart', 'figure'),\n",
    "              Input('indicator_dropdown', 'value'))\n",
    "def display_generic_map_chart(indicator):\n",
    "    df = poverty[poverty['is_country']]\n",
    "    fig = px.choropleth(df, locations='Country Code', \n",
    "                        color=indicator,\n",
    "                        title=indicator,\n",
    "                        hover_name='Country Name',\n",
    "                        color_continuous_scale='cividis',\n",
    "                        animation_frame='year', height=650)\n",
    "    fig.layout.geo.showframe = False\n",
    "    fig.layout.geo.showcountries = True\n",
    "    fig.layout.geo.projection.type = 'natural earth'\n",
    "    fig.layout.geo.lataxis.range = [-53, 76]\n",
    "    fig.layout.geo.lonaxis.range = [-137, 168]\n",
    "    fig.layout.geo.landcolor = 'white'\n",
    "    fig.layout.geo.bgcolor = '#E5ECF6'\n",
    "    fig.layout.paper_bgcolor = '#E5ECF6'\n",
    "    fig.layout.geo.countrycolor = 'gray'\n",
    "    fig.layout.geo.coastlinecolor = 'gray'\n",
    "    fig.layout.coloraxis.colorbar.title = multiline_indicator(indicator)\n",
    "    return fig\n",
    "    \n",
    "\n",
    "app.run_server(host='0.0.0.0', mode='inline', height=700, port=3000)"
   ]
  },
  {
   "cell_type": "code",
   "execution_count": null,
   "id": "nuclear-inspiration",
   "metadata": {},
   "outputs": [],
   "source": [
    "! echo 'Your app is running on: '$EDUCATIVE_LIVE_VM_URL':3000'"
   ]
  }
 ],
 "metadata": {
  "kernelspec": {
   "display_name": "Python 3",
   "language": "python",
   "name": "python3"
  },
  "language_info": {
   "codemirror_mode": {
    "name": "ipython",
    "version": 3
   },
   "file_extension": ".py",
   "mimetype": "text/x-python",
   "name": "python",
   "nbconvert_exporter": "python",
   "pygments_lexer": "ipython3",
   "version": "3.8.2"
  }
 },
 "nbformat": 4,
 "nbformat_minor": 5
}
