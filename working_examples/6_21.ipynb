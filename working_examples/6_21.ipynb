{
 "cells": [
  {
   "cell_type": "code",
   "execution_count": 12,
   "id": "precise-denial",
   "metadata": {},
   "outputs": [
    {
     "data": {
      "text/html": [
       "\n",
       "        <iframe\n",
       "            width=\"100%\"\n",
       "            height=\"650\"\n",
       "            src=\"http://127.0.0.1:8050/\"\n",
       "            frameborder=\"0\"\n",
       "            allowfullscreen\n",
       "        ></iframe>\n",
       "        "
      ],
      "text/plain": [
       "<IPython.lib.display.IFrame at 0x1169821f0>"
      ]
     },
     "metadata": {},
     "output_type": "display_data"
    }
   ],
   "source": [
    "%%capture\n",
    "from jupyter_dash import JupyterDash\n",
    "import dash_html_components as html\n",
    "import dash_core_components as dcc\n",
    "import dash_bootstrap_components as dbc\n",
    "import pandas as pd\n",
    "import plotly.express as px\n",
    "from dash.dependencies import Output, Input\n",
    "\n",
    "poverty = pd.read_csv('../../data/poverty.csv', low_memory=False)\n",
    "perc_pov_cols = poverty.filter(regex='Poverty gap').columns\n",
    "\n",
    "app = JupyterDash(__name__, external_stylesheets=[dbc.themes.COSMO])\n",
    "\n",
    "\n",
    "\n",
    "perc_pov_df = poverty[poverty['is_country']].dropna(subset=perc_pov_cols)\n",
    "perc_pov_years = sorted(set(perc_pov_df['year']))\n",
    "\n",
    "cividis0 = px.colors.sequential.Cividis[0]\n",
    "\n",
    "app.layout = html.Div([\n",
    "\n",
    "    dbc.Row([\n",
    "        dbc.Col(lg=1),\n",
    "    dbc.Col([\n",
    "        html.Br(),\n",
    "        dbc.Label('Select poverty level:'),\n",
    "        dcc.Slider(id='perc_pov_indicator_slider', \n",
    "                   min=0,\n",
    "                   max=2,\n",
    "                   step=1,\n",
    "                   included=False,\n",
    "                   value=0,\n",
    "                   marks={0:  {'label': '$1.9', 'style': {'color': cividis0, 'fontWeight': 'bold'}}, \n",
    "                          1:  {'label': '$3.2', 'style': {'color': cividis0, 'fontWeight': 'bold'}},\n",
    "                          2:  {'label': '$5.5', 'style': {'color': cividis0, 'fontWeight': 'bold'}}}),\n",
    "        ], lg=2),\n",
    "    dbc.Col([\n",
    "        html.Br(),\n",
    "        dbc.Label('Select year:'),\n",
    "        dcc.Slider(id='perc_pov_year_slider',\n",
    "                   min=perc_pov_years[0], \n",
    "                   max=perc_pov_years[-1],\n",
    "                   step=1,\n",
    "                   included=False,\n",
    "                   value=2018,\n",
    "                   marks={year: {'label': str(year), \n",
    "                                 'style': {'color': cividis0}} \n",
    "                          for year in perc_pov_years[::5]}),\n",
    "        ], lg=5),\n",
    "  ]),\n",
    "    dbc.Row([\n",
    "        dbc.Col([\n",
    "            dcc.Graph(id='perc_pov_scatter_chart')\n",
    "        ])\n",
    "    ])\n",
    "    \n",
    "], style={'backgroundColor': '#E5ECF6'})\n",
    "\n",
    "\n",
    "@app.callback(Output('perc_pov_scatter_chart', 'figure'),\n",
    "              Input('perc_pov_year_slider', 'value'),\n",
    "              Input('perc_pov_indicator_slider', 'value'))\n",
    "def plot_perc_pov_chart(year, indicator):\n",
    "    indicator = perc_pov_cols[indicator]\n",
    "    df = (perc_pov_df\n",
    "          [perc_pov_df['year'].eq(year)]\n",
    "          .dropna(subset=[indicator])\n",
    "          .sort_values(indicator))\n",
    "    if df.empty:\n",
    "        raise PreventUpdate\n",
    "\n",
    "    fig = px.scatter(df,\n",
    "                     x=indicator, \n",
    "                     y='Country Name',\n",
    "                     color='Population, total', \n",
    "                     size=[30]*len(df),\n",
    "                     size_max=15,\n",
    "                     hover_name='Country Name',\n",
    "                     height=250 +(20*len(df)),\n",
    "                     color_continuous_scale='cividis',\n",
    "                     title=indicator + '<b>: ' + f'{year}' +'</b>')\n",
    "    fig.layout.paper_bgcolor = '#E5ECF6'\n",
    "    fig.layout.xaxis.ticksuffix = '%'\n",
    "    return fig\n",
    "\n",
    "\n",
    "app.run_server(host='0.0.0.0',port=3000,mode='inline')"
   ]
  },
  {
   "cell_type": "code",
   "execution_count": null,
   "id": "interstate-secretariat",
   "metadata": {},
   "outputs": [],
   "source": [
    "! echo 'Your app is running on : '$EDUCATIVE_LIVE_VM_URL':3000'"
   ]
  },
  {
   "cell_type": "code",
   "execution_count": null,
   "id": "burning-binary",
   "metadata": {},
   "outputs": [],
   "source": []
  }
 ],
 "metadata": {
  "kernelspec": {
   "display_name": "Python 3",
   "language": "python",
   "name": "python3"
  },
  "language_info": {
   "codemirror_mode": {
    "name": "ipython",
    "version": 3
   },
   "file_extension": ".py",
   "mimetype": "text/x-python",
   "name": "python",
   "nbconvert_exporter": "python",
   "pygments_lexer": "ipython3",
   "version": "3.8.2"
  }
 },
 "nbformat": 4,
 "nbformat_minor": 5
}
