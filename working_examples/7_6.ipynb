{
 "cells": [
  {
   "cell_type": "code",
   "execution_count": 9,
   "id": "cardiac-giving",
   "metadata": {},
   "outputs": [],
   "source": [
    "import pandas as pd\n",
    "import plotly.express as px\n",
    "from jupyter_dash import JupyterDash\n",
    "import dash_html_components as html\n",
    "import dash_core_components as dcc\n",
    "from dash.dependencies import Output, Input\n",
    "import dash_bootstrap_components as dbc\n",
    "poverty = pd.read_csv('../../data/poverty.csv')\n",
    "series = pd.read_csv('../../data/PovStatsSeries.csv')\n",
    "year = 2016\n",
    "indicator = 'one two three four five six seven'\n",
    "\n",
    "def multiline_indicator(indicator):\n",
    "    final = []\n",
    "    split = indicator.split()\n",
    "    for i in range(0, len(split), 3):\n",
    "        final.append(' '.join(split[i:i+3]))\n",
    "    return '<br>'.join(final)"
   ]
  },
  {
   "cell_type": "code",
   "execution_count": 10,
   "id": "surprising-lodging",
   "metadata": {},
   "outputs": [
    {
     "data": {
      "text/html": [
       "\n",
       "        <iframe\n",
       "            width=\"100%\"\n",
       "            height=\"700\"\n",
       "            src=\"http://127.0.0.1:8051/\"\n",
       "            frameborder=\"0\"\n",
       "            allowfullscreen\n",
       "        ></iframe>\n",
       "        "
      ],
      "text/plain": [
       "<IPython.lib.display.IFrame at 0x1229c9c10>"
      ]
     },
     "metadata": {},
     "output_type": "display_data"
    }
   ],
   "source": [
    "app = JupyterDash(__name__)\n",
    "\n",
    "app.layout = html.Div([\n",
    "    dcc.Dropdown(id='indicator_dropdown',\n",
    "                 value='GINI index (World Bank estimate)',\n",
    "                 options=[{'label': indicator, 'value': indicator}\n",
    "                          for indicator in poverty.columns[3:54]]),\n",
    "    dcc.Graph(id='indicator_map_chart'),\n",
    "])\n",
    "\n",
    "@app.callback(Output('indicator_map_chart', 'figure'),\n",
    "              Input('indicator_dropdown', 'value'))\n",
    "def display_generic_map_chart(indicator):\n",
    "    df = poverty[poverty['is_country']]\n",
    "    fig = px.choropleth(df, locations='Country Code', \n",
    "                        color=indicator,\n",
    "                        title=indicator,\n",
    "                        hover_name='Country Name',\n",
    "                        color_continuous_scale='cividis',\n",
    "                        animation_frame='year', height=650)\n",
    "    fig.layout.geo.showframe = False\n",
    "    fig.layout.geo.showcountries = True\n",
    "    fig.layout.geo.projection.type = 'natural earth'\n",
    "    fig.layout.geo.lataxis.range = [-53, 76]\n",
    "    fig.layout.geo.lonaxis.range = [-137, 168]\n",
    "    fig.layout.geo.landcolor = 'white'\n",
    "    fig.layout.geo.bgcolor = '#E5ECF6'\n",
    "    fig.layout.paper_bgcolor = '#E5ECF6'\n",
    "    fig.layout.geo.countrycolor = 'gray'\n",
    "    fig.layout.geo.coastlinecolor = 'gray'\n",
    "    fig.layout.coloraxis.colorbar.title = multiline_indicator(indicator)\n",
    "    return fig\n",
    "    \n",
    "\n",
    "app.run_server(mode='inline', height=700, port=8051)"
   ]
  },
  {
   "cell_type": "code",
   "execution_count": null,
   "id": "nuclear-inspiration",
   "metadata": {},
   "outputs": [],
   "source": []
  },
  {
   "cell_type": "code",
   "execution_count": null,
   "id": "relevant-joint",
   "metadata": {},
   "outputs": [],
   "source": []
  },
  {
   "cell_type": "code",
   "execution_count": null,
   "id": "entitled-spice",
   "metadata": {},
   "outputs": [],
   "source": []
  }
 ],
 "metadata": {
  "kernelspec": {
   "display_name": "Python 3",
   "language": "python",
   "name": "python3"
  },
  "language_info": {
   "codemirror_mode": {
    "name": "ipython",
    "version": 3
   },
   "file_extension": ".py",
   "mimetype": "text/x-python",
   "name": "python",
   "nbconvert_exporter": "python",
   "pygments_lexer": "ipython3",
   "version": "3.8.2"
  }
 },
 "nbformat": 4,
 "nbformat_minor": 5
}
