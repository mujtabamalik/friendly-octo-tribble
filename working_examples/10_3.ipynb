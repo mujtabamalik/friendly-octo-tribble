{
 "cells": [
  {
   "cell_type": "code",
   "execution_count": 16,
   "id": "neural-article",
   "metadata": {},
   "outputs": [
    {
     "name": "stdout",
     "output_type": "stream",
     "text": [
      "Dash app running on http://127.0.0.1:8058/\n"
     ]
    }
   ],
   "source": [
    "%%capture\n",
    "import time\n",
    "import plotly.express as px\n",
    "from jupyter_dash import JupyterDash\n",
    "import dash_bootstrap_components as dbc\n",
    "import dash_html_components as html\n",
    "import dash_core_components as dcc\n",
    "from dash.dependencies import Output, Input, State, ALL, ALLSMALLER, MATCH\n",
    "from dash.exceptions import PreventUpdate\n",
    "import pandas as pd\n",
    "\n",
    "app = JupyterDash(__name__, external_stylesheets=[dbc.themes.COSMO])\n",
    "\n",
    "app.layout = html.Div([\n",
    "    html.Br(),html.Br(),\n",
    "    dbc.Button(\"Add Chart\", id='button'),\n",
    "    html.Div(id='output', children=[])\n",
    "])\n",
    "\n",
    "@app.callback(Output('output', 'children'),\n",
    "              Input('button', 'n_clicks'),\n",
    "              State('output', 'children'))\n",
    "def add_new_chart(n_clicks, children):\n",
    "    if not n_clicks:\n",
    "        raise PreventUpdate\n",
    "    new_chart = dcc.Graph(figure=px.bar(height=300, width=500, title=f\"Chart {n_clicks}\"))\n",
    "    \n",
    "    children.append(new_chart)\n",
    "    return children\n",
    "\n",
    "app.run_server(host='0.0.0.0',port=3000)"
   ]
  },
  {
   "cell_type": "code",
   "execution_count": null,
   "id": "tamil-carpet",
   "metadata": {},
   "outputs": [],
   "source": [
    "! echo 'Your app is running on: '$EDUCATIVE_LIVE_VM_URL':3000'"
   ]
  }
 ],
 "metadata": {
  "kernelspec": {
   "display_name": "Python 3",
   "language": "python",
   "name": "python3"
  },
  "language_info": {
   "codemirror_mode": {
    "name": "ipython",
    "version": 3
   },
   "file_extension": ".py",
   "mimetype": "text/x-python",
   "name": "python",
   "nbconvert_exporter": "python",
   "pygments_lexer": "ipython3",
   "version": "3.8.2"
  }
 },
 "nbformat": 4,
 "nbformat_minor": 5
}
