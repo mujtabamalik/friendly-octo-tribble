{
 "cells": [
  {
   "cell_type": "code",
   "execution_count": null,
   "id": "lyric-reaction",
   "metadata": {},
   "outputs": [],
   "source": [
    "%%capture\n",
    "from jupyter_dash import JupyterDash\n",
    "import pandas as pd\n",
    "import dash_html_components as html\n",
    "import dash_core_components as dcc\n",
    "import dash_bootstrap_components as dbc\n",
    "from dash.dependencies import Output, Input\n",
    "from dash.exceptions import PreventUpdate\n",
    "\n",
    "app = JupyterDash(__name__)\n",
    "\n",
    "poverty = pd.read_csv('../../data/poverty.csv', low_memory=False)\n",
    "gini = 'GINI index (World Bank estimate)'\n",
    "gini_df = poverty[poverty[gini].notna()]\n",
    "\n",
    "app.layout = html.Div([\n",
    "    html.Br(),\n",
    "    html.H2('Gini Index - World Bank Data', style={'textAlign': 'center'}),\n",
    "    html.Br(),\n",
    "    dbc.Row([\n",
    "        dbc.Col([\n",
    "            dcc.Dropdown(id='gini_year_dropdown',\n",
    "                         options=[{'label': y, 'value': y}\n",
    "                                  for y in gini_df['year'].drop_duplicates().sort_values()]),\n",
    "            html.Br(),\n",
    "            dcc.Graph(id='gini_year_barchart')\n",
    "        ]),\n",
    "        dbc.Col([\n",
    "            dcc.Dropdown(id='gini_country_dropdown',\n",
    "                         multi=True,\n",
    "                         options=[{'label': country, 'value': country}\n",
    "                                  for country in gini_df['Country Name'].unique()]),\n",
    "            html.Br(),\n",
    "            dcc.Graph(id='gini_country_barchart')\n",
    "        ]),\n",
    "    ])\n",
    "])\n",
    "\n",
    "@app.callback(Output('gini_year_barchart', 'figure'),\n",
    "              Input('gini_year_dropdown', 'value'))\n",
    "def plot_gini_year_barchart(year):\n",
    "    if not year:\n",
    "        raise PreventUpdate\n",
    "    df = gini_df[gini_df['year'].eq(year)].sort_values(gini).dropna(subset=[gini])\n",
    "    n_countries = len(df['Country Name'])\n",
    "    fig = px.bar(df,\n",
    "                 x=gini,\n",
    "                 y='Country Name', \n",
    "                 orientation='h',\n",
    "                 height=200 + (n_countries*20), \n",
    "                 title=gini + ' ' + str(year))\n",
    "    return fig\n",
    "\n",
    "\n",
    "@app.callback(Output('gini_country_barchart', 'figure'),\n",
    "              Input('gini_country_dropdown', 'value'))\n",
    "def plot_gini_country_barchart(countries):\n",
    "    if not countries:\n",
    "        raise PreventUpdate\n",
    "    df = gini_df[gini_df['Country Name'].isin(countries)].dropna(subset=[gini])\n",
    "    fig = px.bar(df,\n",
    "                 x='year',\n",
    "                 y=gini, \n",
    "                 height=100 + (250*len(countries)),\n",
    "                 facet_row='Country Name',\n",
    "                 labels={gini: 'Gini Index'},\n",
    "                 color='Country Name',\n",
    "                 title=''.join([gini, '<br>', '<b>',\n",
    "                                ', '.join(countries), '</b>']))\n",
    "    return fig\n",
    "\n",
    "if __name__ == '__main__':\n",
    "    app.run_server(host='0.0.0.0', mode='inline',port=3000)"
   ]
  },
  {
   "cell_type": "code",
   "execution_count": 1,
   "id": "tamil-bottle",
   "metadata": {},
   "outputs": [
    {
     "name": "stdout",
     "output_type": "stream",
     "text": [
      "Your app is running on : :3000\r\n"
     ]
    }
   ],
   "source": [
    "! echo 'Your app is running on : '$EDUCATIVE_LIVE_VM_URL':3000'"
   ]
  },
  {
   "cell_type": "code",
   "execution_count": null,
   "id": "mexican-accounting",
   "metadata": {},
   "outputs": [],
   "source": []
  }
 ],
 "metadata": {
  "kernelspec": {
   "display_name": "Python 3",
   "language": "python",
   "name": "python3"
  },
  "language_info": {
   "codemirror_mode": {
    "name": "ipython",
    "version": 3
   },
   "file_extension": ".py",
   "mimetype": "text/x-python",
   "name": "python",
   "nbconvert_exporter": "python",
   "pygments_lexer": "ipython3",
   "version": "3.8.2"
  }
 },
 "nbformat": 4,
 "nbformat_minor": 5
}
