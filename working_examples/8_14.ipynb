{
 "cells": [
  {
   "cell_type": "code",
   "execution_count": 3,
   "id": "changing-accuracy",
   "metadata": {},
   "outputs": [],
   "source": [
    "import plotly.express as px\n",
    "import pandas as pd\n",
    "import plotly.graph_objects as go\n",
    "from jupyter_dash import JupyterDash\n",
    "from dash_table import DataTable\n",
    "import dash_core_components as dcc\n",
    "import dash_html_components as html\n",
    "import dash_bootstrap_components as dbc\n",
    "poverty = pd.read_csv('../data/poverty.csv',low_memory=False)\n",
    "gini = 'GINI index (World Bank estimate)'\n",
    "df = poverty[poverty['year'].eq(2000)&poverty['is_country']].filter(regex='Country Name|Income share')\n",
    "\n"
   ]
  },
  {
   "cell_type": "code",
   "execution_count": 4,
   "id": "integral-agreement",
   "metadata": {},
   "outputs": [
    {
     "name": "stdout",
     "output_type": "stream",
     "text": [
      "Dash app running on http://0.0.0.0:3000/\n"
     ]
    }
   ],
   "source": [
    "%%capture\n",
    "app = JupyterDash(__name__, external_stylesheets=[dbc.themes.COSMO])\n",
    "\n",
    "app.layout = html.Div([\n",
    "    dbc.Col([\n",
    "        DataTable(data=df.to_dict('records'),\n",
    "                  columns=[{'name': col, 'id': col}\n",
    "                           for col in df.columns],               \n",
    "                  style_header={'whiteSpace': 'normal'},\n",
    "                  fixed_rows={'headers': True},\n",
    "                  virtualization=True,\n",
    "                  style_as_list_view=True,\n",
    "                  style_table={'height': '400px'})\n",
    "    ], lg =7),\n",
    "])\n",
    "\n",
    "app.run_server(port=3000,host='0.0.0.0', debug=True)"
   ]
  },
  {
   "cell_type": "code",
   "execution_count": null,
   "id": "mature-cigarette",
   "metadata": {},
   "outputs": [],
   "source": [
    "! echo 'Your app is running on :'$EDUCATIVE_LIVE_VM_URL':3000'"
   ]
  },
  {
   "cell_type": "code",
   "execution_count": null,
   "id": "amber-bicycle",
   "metadata": {},
   "outputs": [],
   "source": []
  }
 ],
 "metadata": {
  "kernelspec": {
   "display_name": "Python 3",
   "language": "python",
   "name": "python3"
  },
  "language_info": {
   "codemirror_mode": {
    "name": "ipython",
    "version": 3
   },
   "file_extension": ".py",
   "mimetype": "text/x-python",
   "name": "python",
   "nbconvert_exporter": "python",
   "pygments_lexer": "ipython3",
   "version": "3.8.2"
  }
 },
 "nbformat": 4,
 "nbformat_minor": 5
}
