{
 "cells": [
  {
   "cell_type": "code",
   "execution_count": null,
   "id": "pretty-mixer",
   "metadata": {},
   "outputs": [],
   "source": [
    "import pandas as pd\n",
    "regions = ['East Asia & Pacific', 'Europe & Central Asia',\n",
    "           'Fragile and conflict affected situations', 'High income',\n",
    "           'IDA countries classified as fragile situations',\n",
    "           'IDA total', 'Latin America & Caribbean', 'Low & middle income',\n",
    "           'Low income', 'Lower middle income', 'Middle East & North Africa',\n",
    "           'Middle income', 'South Asia', 'Sub-Saharan Africa',\n",
    "           'Upper middle income', 'World']\n",
    "poverty_data = pd.read_csv('../../data/PovStatsData.csv')\n",
    "population_df = poverty_data[~poverty_data['Country Name'].isin(regions) & \n",
    "                             (poverty_data['Indicator Name']== 'Population, total')]"
   ]
  },
  {
   "cell_type": "code",
   "execution_count": 3,
   "id": "national-express",
   "metadata": {},
   "outputs": [
    {
     "data": {
      "text/html": [
       "\n",
       "        <iframe\n",
       "            width=\"100%\"\n",
       "            height=\"650\"\n",
       "            src=\"http://127.0.0.1:8052/\"\n",
       "            frameborder=\"0\"\n",
       "            allowfullscreen\n",
       "        ></iframe>\n",
       "        "
      ],
      "text/plain": [
       "<IPython.lib.display.IFrame at 0x10599f0a0>"
      ]
     },
     "metadata": {},
     "output_type": "display_data"
    }
   ],
   "source": [
    "%%capture\n",
    "from jupyter_dash import JupyterDash\n",
    "import dash_core_components as dcc\n",
    "import dash_html_components as html\n",
    "from dash.dependencies import Output, Input\n",
    "import plotly.graph_objects as go\n",
    "\n",
    "app = JupyterDash(__name__)\n",
    "\n",
    "app.layout = html.Div([\n",
    "    dcc.Dropdown(id='year_dropdown',\n",
    "                 value='2010',\n",
    "                 options=[{'label': year, 'value': str(year)}\n",
    "                          for year in range(1974, 2019)]),\n",
    "    dcc.Graph(id='population_chart'),\n",
    "])\n",
    "\n",
    "\n",
    "app.run_server(mode='inline',port=3000,host='0.0.0.0')"
   ]
  },
  {
   "cell_type": "code",
   "execution_count": 2,
   "id": "married-belly",
   "metadata": {},
   "outputs": [
    {
     "name": "stdout",
     "output_type": "stream",
     "text": [
      "Your app is running on: :3000\r\n"
     ]
    }
   ],
   "source": [
    "! echo 'Your app is running on : '$EDUCATIVE_LIVE_VM_URL':3000' "
   ]
  },
  {
   "cell_type": "code",
   "execution_count": null,
   "id": "quantitative-history",
   "metadata": {},
   "outputs": [],
   "source": []
  },
  {
   "cell_type": "code",
   "execution_count": null,
   "id": "subtle-provincial",
   "metadata": {},
   "outputs": [],
   "source": []
  }
 ],
 "metadata": {
  "kernelspec": {
   "display_name": "Python 3",
   "language": "python",
   "name": "python3"
  },
  "language_info": {
   "codemirror_mode": {
    "name": "ipython",
    "version": 3
   },
   "file_extension": ".py",
   "mimetype": "text/x-python",
   "name": "python",
   "nbconvert_exporter": "python",
   "pygments_lexer": "ipython3",
   "version": "3.8.2"
  }
 },
 "nbformat": 4,
 "nbformat_minor": 5
}
