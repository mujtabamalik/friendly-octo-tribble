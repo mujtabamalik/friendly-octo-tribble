{
 "cells": [
  {
   "cell_type": "code",
   "execution_count": 9,
   "id": "overall-pittsburgh",
   "metadata": {},
   "outputs": [],
   "source": [
    "%%capture\n",
    "from jupyter_dash import JupyterDash\n",
    "import dash_core_components as dcc\n",
    "import dash_html_components as html\n",
    "app = JupyterDash(__name__)\n",
    "app.layout = html.Div([\n",
    "dcc.Markdown(\"\"\"\n",
    "# This is the main text of the page\n",
    "### This is secondary text\n",
    "* first item\n",
    "* second item\n",
    "* third item\n",
    "\"\"\")\n",
    "])\n",
    "app.run_server(host='0.0.0.0',port=3000,mode='inline')"
   ]
  },
  {
   "cell_type": "code",
   "execution_count": 10,
   "id": "strategic-serbia",
   "metadata": {},
   "outputs": [
    {
     "name": "stdout",
     "output_type": "stream",
     "text": [
      "Your app is running on: :3000\r\n"
     ]
    }
   ],
   "source": [
    "! echo 'Your app is running on: '$EDUCATIVE_LIVE_VM_URL':3000'"
   ]
  },
  {
   "cell_type": "code",
   "execution_count": null,
   "id": "foster-cancellation",
   "metadata": {},
   "outputs": [],
   "source": []
  },
  {
   "cell_type": "code",
   "execution_count": null,
   "id": "excellent-interpretation",
   "metadata": {},
   "outputs": [],
   "source": []
  }
 ],
 "metadata": {
  "kernelspec": {
   "display_name": "Python 3",
   "language": "python",
   "name": "python3"
  },
  "language_info": {
   "codemirror_mode": {
    "name": "ipython",
    "version": 3
   },
   "file_extension": ".py",
   "mimetype": "text/x-python",
   "name": "python",
   "nbconvert_exporter": "python",
   "pygments_lexer": "ipython3",
   "version": "3.8.2"
  }
 },
 "nbformat": 4,
 "nbformat_minor": 5
}
