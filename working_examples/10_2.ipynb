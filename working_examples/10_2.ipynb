{
 "cells": [
  {
   "cell_type": "code",
   "execution_count": 11,
   "id": "neural-article",
   "metadata": {},
   "outputs": [
    {
     "data": {
      "text/html": [
       "\n",
       "        <iframe\n",
       "            width=\"100%\"\n",
       "            height=\"1500\"\n",
       "            src=\"http://127.0.0.1:8054/\"\n",
       "            frameborder=\"0\"\n",
       "            allowfullscreen\n",
       "        ></iframe>\n",
       "        "
      ],
      "text/plain": [
       "<IPython.lib.display.IFrame at 0x119de0d30>"
      ]
     },
     "metadata": {},
     "output_type": "display_data"
    }
   ],
   "source": [
    "%%capture\n",
    "import time\n",
    "import plotly.express as px\n",
    "from jupyter_dash import JupyterDash\n",
    "import dash_bootstrap_components as dbc\n",
    "import dash_html_components as html\n",
    "import dash_core_components as dcc\n",
    "from dash.dependencies import Output, Input, State, ALL, ALLSMALLER, MATCH\n",
    "from dash.exceptions import PreventUpdate\n",
    "import pandas as pd\n",
    "\n",
    "poverty = pd.read_csv('../../data/poverty.csv', low_memory=False)\n",
    "countries = poverty[poverty['is_country']]['Country Name'].drop_duplicates().sort_values()\n",
    "\n",
    "app = JupyterDash(__name__, external_stylesheets=[dbc.themes.COSMO])\n",
    "\n",
    "app.layout = html.Div([\n",
    "    html.Br(),\n",
    "    html.Div(id='feedback'),\n",
    "    dbc.Label(\"Create your own dropdown, add options one per line:\"),\n",
    "    dbc.Textarea(id='text', cols=40, rows=5),\n",
    "    html.Br(),\n",
    "    dbc.Button(\"Set options\", id='button'),\n",
    "    html.Br(),\n",
    "    dcc.Dropdown(id='dropdown'),\n",
    "    dcc.Graph(id='chart')\n",
    "])\n",
    "\n",
    "\n",
    "@app.callback(Output('dropdown', 'options'),\n",
    "              Output('feedback', 'children'),\n",
    "              Input('button', 'n_clicks'),\n",
    "              State('text', 'value'))\n",
    "def set_dropdown_options(n_clicks, options):\n",
    "    if not n_clicks:\n",
    "        raise PreventUpdate\n",
    "    text = options.split()\n",
    "    message = dbc.Alert(f\"Success! you added the options: {', '.join(text)}\", \n",
    "                        color='success',\n",
    "                        dismissable=True)\n",
    "    options = [{'label': t, 'value': t} for t in text]\n",
    "    return options, message\n",
    "\n",
    "@app.callback(Output('chart', 'figure'),\n",
    "              Input('dropdown', 'value'))\n",
    "def create_population_chart(country_code):\n",
    "    if not country_code:\n",
    "        raise PreventUpdate\n",
    "    df = poverty[poverty['Country Code']==country_code]\n",
    "    return px.line(df, x='year', y='Population, total', title=f\"Population of {country_code}\")\n",
    "\n",
    "app.run_server(host='0.0.0.0',debug= True, height=1500, port=3000)"
   ]
  },
  {
   "cell_type": "code",
   "execution_count": null,
   "id": "institutional-talent",
   "metadata": {},
   "outputs": [],
   "source": [
    "! echo 'Your app is running on: '$EDUCATIVE_LIVE_VM_URL':3000'"
   ]
  }
 ],
 "metadata": {
  "kernelspec": {
   "display_name": "Python 3",
   "language": "python",
   "name": "python3"
  },
  "language_info": {
   "codemirror_mode": {
    "name": "ipython",
    "version": 3
   },
   "file_extension": ".py",
   "mimetype": "text/x-python",
   "name": "python",
   "nbconvert_exporter": "python",
   "pygments_lexer": "ipython3",
   "version": "3.8.2"
  }
 },
 "nbformat": 4,
 "nbformat_minor": 5
}
