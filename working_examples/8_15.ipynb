{
 "cells": [
  {
   "cell_type": "code",
   "execution_count": 11,
   "id": "changing-accuracy",
   "metadata": {},
   "outputs": [],
   "source": [
    "import plotly.express as px\n",
    "import pandas as pd\n",
    "import plotly.graph_objects as go\n",
    "from jupyter_dash import JupyterDash\n",
    "from dash_table import DataTable\n",
    "import dash_core_components as dcc\n",
    "import dash_html_components as html\n",
    "import dash_bootstrap_components as dbc\n",
    "from dash.dependencies import Output, Input, State\n",
    "poverty = pd.read_csv('../../data/poverty.csv',low_memory=False)\n",
    "gini = 'GINI index (World Bank estimate)'\n",
    "df = poverty[poverty['year'].eq(2000)&poverty['is_country']].filter(regex='Country Name|Income share')\n",
    "\n"
   ]
  },
  {
   "cell_type": "code",
   "execution_count": 12,
   "id": "geological-rates",
   "metadata": {},
   "outputs": [],
   "source": [
    "%%capture\n",
    "app = JupyterDash(__name__, external_stylesheets=[dbc.themes.COSMO])\n",
    "\n",
    "app.layout = html.Div([\n",
    "    html.Br(),\n",
    "    dbc.Row([\n",
    "        dbc.Col(lg=1,),\n",
    "        dbc.Col([\n",
    "            dbc.Label('Indicator:'),\n",
    "            dcc.Dropdown(id='hist_indicator_dropdown',optionHeight=40,\n",
    "                         value='GINI index (World Bank estimate)',\n",
    "                         options=[{'label': indicator, 'value': indicator}\n",
    "                                  for indicator in poverty.columns[3:54]]),\n",
    "        ], lg=5),\n",
    "        dbc.Col([\n",
    "            dbc.Label('Years:'),\n",
    "            dcc.Dropdown(id='hist_multi_year_selector',\n",
    "                         multi=True,\n",
    "                         value=[2015],\n",
    "                         placeholder='Select one or more years',\n",
    "                         options=[{'label': year, 'value': year}\n",
    "                                  for year in poverty['year'].drop_duplicates().sort_values()]),\n",
    "        ], lg=4),\n",
    "    ]),\n",
    "    html.Br(),\n",
    "    dbc.Row([\n",
    "        dbc.Col(lg=2),\n",
    "        dbc.Col([\n",
    "            html.Br(),\n",
    "            dbc.Label('Modify number of bins:'),\n",
    "            dcc.Slider(id='hist_bins_slider', \n",
    "                       dots=True, min=0, max=100, step=5, included=False,\n",
    "                       marks={x: str(x) for x in range(0, 105, 5)}),\n",
    "        ], lg=6)\n",
    "        \n",
    "    ]),\n",
    "\n",
    "    dcc.Graph(id='indicator_year_histogram'),\n",
    "    dbc.Row([\n",
    "        dbc.Col(lg=2),\n",
    "        dbc.Col([\n",
    "            html.Div(id='table_histogram_output'),\n",
    "        ], lg=7)\n",
    "    ])\n",
    "\n",
    "], style={'backgroundColor': '#E5ECF6'})\n",
    "\n",
    "@app.callback(Output('indicator_year_histogram', 'figure'),\n",
    "              Output('table_histogram_output', 'children'),\n",
    "              Input('hist_multi_year_selector', 'value'),\n",
    "              Input('hist_indicator_dropdown', 'value'),\n",
    "              Input('hist_bins_slider', 'value'))\n",
    "def display_histogram(years, indicator, nbins):\n",
    "    if (not years) or (not indicator):\n",
    "        raise PreventUpdate\n",
    "    df = poverty[poverty['year'].isin(years) & poverty['is_country']]\n",
    "    fig = px.histogram(df, x=indicator, facet_col='year', color='year', \n",
    "                       title=indicator + ' Histogram',\n",
    "                       nbins=nbins,\n",
    "                       facet_col_wrap=4, height=700)\n",
    "    fig.for_each_xaxis(lambda axis: axis.update(title=''))\n",
    "    fig.add_annotation(text=indicator, x=0.5, y=-0.12, xref='paper', yref='paper', showarrow=False)\n",
    "    fig.layout.paper_bgcolor = '#E5ECF6'\n",
    "    \n",
    "    table = DataTable(columns = [{'name': col, 'id': col} \n",
    "                                 for col in df[['Country Name', 'year', indicator]].columns],\n",
    "                      data = df[['Country Name', 'year', indicator]].to_dict('records'),\n",
    "\n",
    "                      style_header={'whiteSpace': 'normal'},\n",
    "                      fixed_rows={'headers': True},\n",
    "                      virtualization=True,\n",
    "                      style_table={'height': '400px'},\n",
    "    \n",
    "                      \n",
    "                      sort_action='native',\n",
    "                      filter_action='native',\n",
    "                      export_format='csv',\n",
    "                      style_cell={'minWidth': '150px'}),\n",
    "                      \n",
    "    html.Br(), html.Br(), html.Br()\n",
    "    \n",
    "    \n",
    "    return fig, table\n",
    "\n",
    "app.run_server(host='0.0.0.0',port=3000, height=900)"
   ]
  },
  {
   "cell_type": "code",
   "execution_count": 13,
   "id": "mature-cigarette",
   "metadata": {},
   "outputs": [
    {
     "name": "stdout",
     "output_type": "stream",
     "text": [
      "Your app is running on ::3000\r\n"
     ]
    }
   ],
   "source": [
    "! echo 'Your app is running on :'$EDUCATIVE_LIVE_VM_URL':3000'"
   ]
  },
  {
   "cell_type": "code",
   "execution_count": null,
   "id": "literary-account",
   "metadata": {},
   "outputs": [],
   "source": []
  }
 ],
 "metadata": {
  "kernelspec": {
   "display_name": "Python 3",
   "language": "python",
   "name": "python3"
  },
  "language_info": {
   "codemirror_mode": {
    "name": "ipython",
    "version": 3
   },
   "file_extension": ".py",
   "mimetype": "text/x-python",
   "name": "python",
   "nbconvert_exporter": "python",
   "pygments_lexer": "ipython3",
   "version": "3.8.2"
  }
 },
 "nbformat": 4,
 "nbformat_minor": 5
}
