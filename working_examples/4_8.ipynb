{
 "cells": [
  {
   "cell_type": "code",
   "execution_count": 1,
   "id": "caroline-perception",
   "metadata": {},
   "outputs": [
    {
     "data": {
      "text/html": [
       "<style  type=\"text/css\" >\n",
       "</style><table id=\"T_3cda4_\" ><caption><b>Wide format</b></caption><thead>    <tr>        <th class=\"blank level0\" ></th>        <th class=\"col_heading level0 col0\" >country</th>        <th class=\"col_heading level0 col1\" >indicator</th>        <th class=\"col_heading level0 col2\" >2015</th>        <th class=\"col_heading level0 col3\" >2020</th>    </tr></thead><tbody>\n",
       "                <tr>\n",
       "                        <th id=\"T_3cda4_level0_row0\" class=\"row_heading level0 row0\" >0</th>\n",
       "                        <td id=\"T_3cda4_row0_col0\" class=\"data row0 col0\" >country_A</td>\n",
       "                        <td id=\"T_3cda4_row0_col1\" class=\"data row0 col1\" >indicator 1</td>\n",
       "                        <td id=\"T_3cda4_row0_col2\" class=\"data row0 col2\" >100</td>\n",
       "                        <td id=\"T_3cda4_row0_col3\" class=\"data row0 col3\" >120</td>\n",
       "            </tr>\n",
       "            <tr>\n",
       "                        <th id=\"T_3cda4_level0_row1\" class=\"row_heading level0 row1\" >1</th>\n",
       "                        <td id=\"T_3cda4_row1_col0\" class=\"data row1 col0\" >country_B</td>\n",
       "                        <td id=\"T_3cda4_row1_col1\" class=\"data row1 col1\" >indicator 1</td>\n",
       "                        <td id=\"T_3cda4_row1_col2\" class=\"data row1 col2\" >10</td>\n",
       "                        <td id=\"T_3cda4_row1_col3\" class=\"data row1 col3\" >15</td>\n",
       "            </tr>\n",
       "    </tbody></table>"
      ],
      "text/plain": [
       "<pandas.io.formats.style.Styler at 0x103c6c8e0>"
      ]
     },
     "execution_count": 1,
     "metadata": {},
     "output_type": "execute_result"
    }
   ],
   "source": [
    "import pandas as pd\n",
    "df = pd.DataFrame({\n",
    "    'country': ['country_A', 'country_B'],\n",
    "    'indicator': ['indicator 1', 'indicator 1'],\n",
    "    '2015': [100, 10],\n",
    "    '2020': [120, 15]\n",
    "})\n",
    "df.style.set_caption('<b>Wide format</b>')"
   ]
  },
  {
   "cell_type": "code",
   "execution_count": 2,
   "id": "declared-render",
   "metadata": {},
   "outputs": [
    {
     "data": {
      "text/html": [
       "<style  type=\"text/css\" >\n",
       "</style><table id=\"T_46199_\" ><caption><b>Long (tidy) format</b></caption><thead>    <tr>        <th class=\"blank level0\" ></th>        <th class=\"col_heading level0 col0\" >country</th>        <th class=\"col_heading level0 col1\" >indicator</th>        <th class=\"col_heading level0 col2\" >year</th>        <th class=\"col_heading level0 col3\" >value</th>    </tr></thead><tbody>\n",
       "                <tr>\n",
       "                        <th id=\"T_46199_level0_row0\" class=\"row_heading level0 row0\" >0</th>\n",
       "                        <td id=\"T_46199_row0_col0\" class=\"data row0 col0\" >country_A</td>\n",
       "                        <td id=\"T_46199_row0_col1\" class=\"data row0 col1\" >indicator 1</td>\n",
       "                        <td id=\"T_46199_row0_col2\" class=\"data row0 col2\" >2015</td>\n",
       "                        <td id=\"T_46199_row0_col3\" class=\"data row0 col3\" >100</td>\n",
       "            </tr>\n",
       "            <tr>\n",
       "                        <th id=\"T_46199_level0_row1\" class=\"row_heading level0 row1\" >1</th>\n",
       "                        <td id=\"T_46199_row1_col0\" class=\"data row1 col0\" >country_B</td>\n",
       "                        <td id=\"T_46199_row1_col1\" class=\"data row1 col1\" >indicator 1</td>\n",
       "                        <td id=\"T_46199_row1_col2\" class=\"data row1 col2\" >2015</td>\n",
       "                        <td id=\"T_46199_row1_col3\" class=\"data row1 col3\" >10</td>\n",
       "            </tr>\n",
       "            <tr>\n",
       "                        <th id=\"T_46199_level0_row2\" class=\"row_heading level0 row2\" >2</th>\n",
       "                        <td id=\"T_46199_row2_col0\" class=\"data row2 col0\" >country_A</td>\n",
       "                        <td id=\"T_46199_row2_col1\" class=\"data row2 col1\" >indicator 1</td>\n",
       "                        <td id=\"T_46199_row2_col2\" class=\"data row2 col2\" >2020</td>\n",
       "                        <td id=\"T_46199_row2_col3\" class=\"data row2 col3\" >120</td>\n",
       "            </tr>\n",
       "            <tr>\n",
       "                        <th id=\"T_46199_level0_row3\" class=\"row_heading level0 row3\" >3</th>\n",
       "                        <td id=\"T_46199_row3_col0\" class=\"data row3 col0\" >country_B</td>\n",
       "                        <td id=\"T_46199_row3_col1\" class=\"data row3 col1\" >indicator 1</td>\n",
       "                        <td id=\"T_46199_row3_col2\" class=\"data row3 col2\" >2020</td>\n",
       "                        <td id=\"T_46199_row3_col3\" class=\"data row3 col3\" >15</td>\n",
       "            </tr>\n",
       "    </tbody></table>"
      ],
      "text/plain": [
       "<pandas.io.formats.style.Styler at 0x116ac5e20>"
      ]
     },
     "execution_count": 2,
     "metadata": {},
     "output_type": "execute_result"
    }
   ],
   "source": [
    "melted = df.melt(id_vars=['country', 'indicator'], value_vars=['2015', '2020'], var_name='year')\n",
    "melted.style.set_caption('<b>Long (tidy) format</b>')"
   ]
  },
  {
   "cell_type": "code",
   "execution_count": null,
   "id": "binding-olympus",
   "metadata": {},
   "outputs": [],
   "source": []
  }
 ],
 "metadata": {
  "kernelspec": {
   "display_name": "Python 3",
   "language": "python",
   "name": "python3"
  },
  "language_info": {
   "codemirror_mode": {
    "name": "ipython",
    "version": 3
   },
   "file_extension": ".py",
   "mimetype": "text/x-python",
   "name": "python",
   "nbconvert_exporter": "python",
   "pygments_lexer": "ipython3",
   "version": "3.8.2"
  }
 },
 "nbformat": 4,
 "nbformat_minor": 5
}
