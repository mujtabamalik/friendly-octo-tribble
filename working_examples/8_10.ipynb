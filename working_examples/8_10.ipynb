{
 "cells": [
  {
   "cell_type": "code",
   "execution_count": 4,
   "id": "changing-accuracy",
   "metadata": {},
   "outputs": [],
   "source": [
    "import plotly.express as px\n",
    "import pandas as pd\n",
    "from jupyter_dash import JupyterDash\n",
    "import dash_core_components as dcc\n",
    "import dash_html_components as html\n",
    "import dash_bootstrap_components as dbc\n",
    "from dash.dependencies import Output, Input\n",
    "poverty = pd.read_csv('../../data/poverty.csv',low_memory=False)\n",
    "df = poverty[poverty['is_country'] & poverty['year'].eq(2015)]\n",
    "gini = 'GINI index (World Bank estimate)'\n",
    "df = poverty[poverty['is_country'] & poverty['year'].isin([2010, 2015])]\n"
   ]
  },
  {
   "cell_type": "code",
   "execution_count": 5,
   "id": "extended-nepal",
   "metadata": {},
   "outputs": [
    {
     "data": {
      "text/html": [
       "\n",
       "        <iframe\n",
       "            width=\"100%\"\n",
       "            height=\"650\"\n",
       "            src=\"http://0.0.0.0:3000/\"\n",
       "            frameborder=\"0\"\n",
       "            allowfullscreen\n",
       "        ></iframe>\n",
       "        "
      ],
      "text/plain": [
       "<IPython.lib.display.IFrame at 0x1167e8910>"
      ]
     },
     "metadata": {},
     "output_type": "display_data"
    }
   ],
   "source": [
    "%%capture\n",
    "app = JupyterDash(__name__)\n",
    "\n",
    "app.layout = html.Div([\n",
    "            dbc.Label('Indicator:'),\n",
    "            dcc.Dropdown(id='hist_indicator_dropdown',\n",
    "                         value='GINI index (World Bank estimate)',\n",
    "                         options=[{'label': indicator, 'value': indicator}\n",
    "                                  for indicator in poverty.columns[3:54]]),\n",
    "            dbc.Label('Years:'),\n",
    "            dcc.Dropdown(id='hist_multi_year_selector',\n",
    "                         multi=True,\n",
    "                         placeholder='Select one or more years',\n",
    "                         options=[{'label': year, 'value': year}\n",
    "                                  for year in poverty['year'].drop_duplicates().sort_values()]),\n",
    "            dbc.Label('Modify number of bins:'),\n",
    "            dcc.Slider(id='hist_bins_slider', \n",
    "                       dots=True, min=0, max=100, step=5, included=False,\n",
    "                       marks={x: str(x) for x in range(0, 105, 5)}),\n",
    "    dcc.Graph(id='indicator_year_histogram'),\n",
    "])\n",
    "app.run_server(mode='inline', port=3000,host='0.0.0.0')"
   ]
  },
  {
   "cell_type": "code",
   "execution_count": 6,
   "id": "emerging-criminal",
   "metadata": {},
   "outputs": [
    {
     "name": "stdout",
     "output_type": "stream",
     "text": [
      "Your app is running on: :3000\r\n"
     ]
    }
   ],
   "source": [
    "! echo 'Your app is running on: '$EDUCATIVE_LIVE_VM_URL':3000'"
   ]
  },
  {
   "cell_type": "code",
   "execution_count": null,
   "id": "mature-cigarette",
   "metadata": {},
   "outputs": [],
   "source": []
  }
 ],
 "metadata": {
  "kernelspec": {
   "display_name": "Python 3",
   "language": "python",
   "name": "python3"
  },
  "language_info": {
   "codemirror_mode": {
    "name": "ipython",
    "version": 3
   },
   "file_extension": ".py",
   "mimetype": "text/x-python",
   "name": "python",
   "nbconvert_exporter": "python",
   "pygments_lexer": "ipython3",
   "version": "3.8.2"
  }
 },
 "nbformat": 4,
 "nbformat_minor": 5
}
