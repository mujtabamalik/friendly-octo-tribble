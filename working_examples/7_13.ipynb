{
 "cells": [
  {
   "cell_type": "code",
   "execution_count": 20,
   "id": "earned-portal",
   "metadata": {},
   "outputs": [],
   "source": [
    "import pandas as pd\n",
    "lat_long =pd.read_html('https://developers.google.com/public-data/docs/canonical/countries_csv')[0]\n",
    "poverty = pd.read_csv('../../data/poverty.csv', low_memory=False)"
   ]
  },
  {
   "cell_type": "code",
   "execution_count": 21,
   "id": "greatest-limit",
   "metadata": {},
   "outputs": [],
   "source": [
    "poverty = pd.merge(left=poverty, right=lat_long, how='left',\n",
    "                   left_on='2-alpha code', right_on='country')"
   ]
  },
  {
   "cell_type": "code",
   "execution_count": 22,
   "id": "alive-secretariat",
   "metadata": {},
   "outputs": [
    {
     "data": {
      "text/html": [
       "<div>\n",
       "<style scoped>\n",
       "    .dataframe tbody tr th:only-of-type {\n",
       "        vertical-align: middle;\n",
       "    }\n",
       "\n",
       "    .dataframe tbody tr th {\n",
       "        vertical-align: top;\n",
       "    }\n",
       "\n",
       "    .dataframe thead th {\n",
       "        text-align: right;\n",
       "    }\n",
       "</style>\n",
       "<table border=\"1\" class=\"dataframe\">\n",
       "  <thead>\n",
       "    <tr style=\"text-align: right;\">\n",
       "      <th></th>\n",
       "      <th>Country Name</th>\n",
       "      <th>longitude</th>\n",
       "      <th>latitude</th>\n",
       "      <th>2-alpha code</th>\n",
       "    </tr>\n",
       "  </thead>\n",
       "  <tbody>\n",
       "    <tr>\n",
       "      <th>5933</th>\n",
       "      <td>Peru</td>\n",
       "      <td>-75.015152</td>\n",
       "      <td>-9.189967</td>\n",
       "      <td>PE</td>\n",
       "    </tr>\n",
       "    <tr>\n",
       "      <th>2621</th>\n",
       "      <td>Georgia</td>\n",
       "      <td>43.356892</td>\n",
       "      <td>42.315407</td>\n",
       "      <td>GE</td>\n",
       "    </tr>\n",
       "    <tr>\n",
       "      <th>5479</th>\n",
       "      <td>Nicaragua</td>\n",
       "      <td>-85.207229</td>\n",
       "      <td>12.865416</td>\n",
       "      <td>NI</td>\n",
       "    </tr>\n",
       "    <tr>\n",
       "      <th>2418</th>\n",
       "      <td>Finland</td>\n",
       "      <td>25.748151</td>\n",
       "      <td>61.924110</td>\n",
       "      <td>FI</td>\n",
       "    </tr>\n",
       "    <tr>\n",
       "      <th>5305</th>\n",
       "      <td>Namibia</td>\n",
       "      <td>18.490410</td>\n",
       "      <td>-22.957640</td>\n",
       "      <td>NaN</td>\n",
       "    </tr>\n",
       "    <tr>\n",
       "      <th>4531</th>\n",
       "      <td>Madagascar</td>\n",
       "      <td>46.869107</td>\n",
       "      <td>-18.766947</td>\n",
       "      <td>MG</td>\n",
       "    </tr>\n",
       "    <tr>\n",
       "      <th>7956</th>\n",
       "      <td>Vanuatu</td>\n",
       "      <td>166.959158</td>\n",
       "      <td>-15.376706</td>\n",
       "      <td>VU</td>\n",
       "    </tr>\n",
       "    <tr>\n",
       "      <th>760</th>\n",
       "      <td>Bosnia and Herzegovina</td>\n",
       "      <td>17.679076</td>\n",
       "      <td>43.915886</td>\n",
       "      <td>BA</td>\n",
       "    </tr>\n",
       "    <tr>\n",
       "      <th>1749</th>\n",
       "      <td>Czech Republic</td>\n",
       "      <td>15.472962</td>\n",
       "      <td>49.817492</td>\n",
       "      <td>CZ</td>\n",
       "    </tr>\n",
       "    <tr>\n",
       "      <th>7773</th>\n",
       "      <td>United States</td>\n",
       "      <td>-95.712891</td>\n",
       "      <td>37.090240</td>\n",
       "      <td>US</td>\n",
       "    </tr>\n",
       "  </tbody>\n",
       "</table>\n",
       "</div>"
      ],
      "text/plain": [
       "                Country Name   longitude   latitude 2-alpha code\n",
       "5933                    Peru  -75.015152  -9.189967           PE\n",
       "2621                 Georgia   43.356892  42.315407           GE\n",
       "5479               Nicaragua  -85.207229  12.865416           NI\n",
       "2418                 Finland   25.748151  61.924110           FI\n",
       "5305                 Namibia   18.490410 -22.957640          NaN\n",
       "4531              Madagascar   46.869107 -18.766947           MG\n",
       "7956                 Vanuatu  166.959158 -15.376706           VU\n",
       "760   Bosnia and Herzegovina   17.679076  43.915886           BA\n",
       "1749          Czech Republic   15.472962  49.817492           CZ\n",
       "7773           United States  -95.712891  37.090240           US"
      ]
     },
     "execution_count": 22,
     "metadata": {},
     "output_type": "execute_result"
    }
   ],
   "source": [
    "poverty[['Country Name', 'longitude', 'latitude', '2-alpha code']].sample(10)"
   ]
  },
  {
   "cell_type": "code",
   "execution_count": null,
   "id": "incorporate-poetry",
   "metadata": {},
   "outputs": [],
   "source": []
  },
  {
   "cell_type": "code",
   "execution_count": null,
   "id": "growing-blink",
   "metadata": {},
   "outputs": [],
   "source": []
  }
 ],
 "metadata": {
  "kernelspec": {
   "display_name": "Python 3",
   "language": "python",
   "name": "python3"
  },
  "language_info": {
   "codemirror_mode": {
    "name": "ipython",
    "version": 3
   },
   "file_extension": ".py",
   "mimetype": "text/x-python",
   "name": "python",
   "nbconvert_exporter": "python",
   "pygments_lexer": "ipython3",
   "version": "3.8.2"
  }
 },
 "nbformat": 4,
 "nbformat_minor": 5
}
