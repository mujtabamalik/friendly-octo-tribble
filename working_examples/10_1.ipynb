{
 "cells": [
  {
   "cell_type": "code",
   "execution_count": 1,
   "id": "neural-article",
   "metadata": {},
   "outputs": [
    {
     "data": {
      "text/html": [
       "\n",
       "        <iframe\n",
       "            width=\"100%\"\n",
       "            height=\"300\"\n",
       "            src=\"http://127.0.0.1:8059/\"\n",
       "            frameborder=\"0\"\n",
       "            allowfullscreen\n",
       "        ></iframe>\n",
       "        "
      ],
      "text/plain": [
       "<IPython.lib.display.IFrame at 0x10ad31940>"
      ]
     },
     "metadata": {},
     "output_type": "display_data"
    }
   ],
   "source": [
    "%%capture\n",
    "import time\n",
    "from jupyter_dash import JupyterDash\n",
    "import dash_bootstrap_components as dbc\n",
    "import dash_html_components as html\n",
    "import dash_core_components as dcc\n",
    "from dash.dependencies import Output, Input, State\n",
    "from dash.exceptions import PreventUpdate\n",
    "\n",
    "app = JupyterDash(__name__, external_stylesheets=[dbc.themes.COSMO])\n",
    "\n",
    "app.layout = html.Div([\n",
    "    html.Br(), html.Br(),\n",
    "    dcc.Dropdown(id='dropdown', options=[{'label': x, 'value': x}\n",
    "                                         for x in ['one', 'two', 'three']]),\n",
    "    html.Br(),\n",
    "    dcc.Textarea(id='textarea', cols=50, rows=5),\n",
    "    html.Br(),\n",
    "    dbc.Button(\"Submit\", id='button'),\n",
    "    html.Br(), html.Br(),\n",
    "    html.Div(id='output')\n",
    "])\n",
    "\n",
    "\n",
    "@app.callback(Output('output', 'children'), \n",
    "              Input('button', 'n_clicks'),\n",
    "              State('dropdown', 'value'),\n",
    "              State('textarea', 'value'))\n",
    "def display_values(n_clicks, dropdown_val, textarea_val):\n",
    "    if not n_clicks:\n",
    "        raise PreventUpdate\n",
    "    return f'You chose \"{dropdown_val}\" from the dropdown, and wrote \"{textarea_val}\" in the textarea.'\n",
    "\n",
    "app.run_server(host='0.0.0.0',mode='inline', port=3000, height=300)"
   ]
  },
  {
   "cell_type": "code",
   "execution_count": null,
   "id": "disciplinary-infrared",
   "metadata": {},
   "outputs": [],
   "source": [
    "! echo 'Your app is running on: '$EDUCATIVE_LIVE_VM_URL':3000'"
   ]
  }
 ],
 "metadata": {
  "kernelspec": {
   "display_name": "Python 3",
   "language": "python",
   "name": "python3"
  },
  "language_info": {
   "codemirror_mode": {
    "name": "ipython",
    "version": 3
   },
   "file_extension": ".py",
   "mimetype": "text/x-python",
   "name": "python",
   "nbconvert_exporter": "python",
   "pygments_lexer": "ipython3",
   "version": "3.8.2"
  }
 },
 "nbformat": 4,
 "nbformat_minor": 5
}
