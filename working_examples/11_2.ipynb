{
 "cells": [
  {
   "cell_type": "code",
   "execution_count": 7,
   "id": "assured-barbados",
   "metadata": {},
   "outputs": [],
   "source": [
    "from jupyter_dash import JupyterDash\n",
    "import dash_bootstrap_components as dbc\n",
    "import dash_html_components as html\n",
    "import dash_core_components as dcc\n",
    "from dash.dependencies import Output, Input"
   ]
  },
  {
   "cell_type": "code",
   "execution_count": 8,
   "id": "anonymous-validity",
   "metadata": {},
   "outputs": [
    {
     "name": "stdout",
     "output_type": "stream",
     "text": [
      "Dash app running on http://0.0.0.0:3000/\n"
     ]
    }
   ],
   "source": [
    "%%capture\n",
    "app = JupyterDash(__name__,\n",
    "                  external_stylesheets=[dbc.themes.COSMO])\n",
    "\n",
    "app.layout = html.Div([\n",
    "    dbc.Row([\n",
    "        dbc.Col(lg=1),\n",
    "        dbc.Col([\n",
    "            html.Br(),\n",
    "            dcc.Location(id='location'),\n",
    "            html.A(href='/path',\n",
    "                   children='Go to a direcotory path'),\n",
    "            html.Br(),\n",
    "            dcc.Link(href='/path/search?one=1&two=2',\n",
    "                     children='Go to search page'),\n",
    "            html.Br(),\n",
    "            dcc.Link(href='path/?hello=HELLO#hash_string',\n",
    "                     children='Go to a page with a hash'),\n",
    "            html.Div(id='output')\n",
    "            ])\n",
    "        ])\n",
    "    ])\n",
    "\n",
    "@app.callback(Output('output', 'children'),\n",
    "              Input('location', 'pathname'),\n",
    "              Input('location', 'search'),\n",
    "              Input('location', 'href'),\n",
    "              Input('location', 'hash'))\n",
    "def show_url_parts(pathname, search, href, hash_):\n",
    "    return html.Div([\n",
    "        html.Br(), html.Br(), \n",
    "        f\"href: {href}\",\n",
    "        html.Br(),\n",
    "        f\"path: {pathname}\",\n",
    "        html.Br(),\n",
    "        f\"search: {search}\",\n",
    "        html.Br(),\n",
    "        f\"hash: {hash_}\",\n",
    "        ])\n",
    "\n",
    "app.run_server(host='0.0.0.0',port=3000)"
   ]
  },
  {
   "cell_type": "code",
   "execution_count": null,
   "id": "conceptual-flavor",
   "metadata": {},
   "outputs": [],
   "source": [
    "! echo 'Your app is running on: ' $EDUCATIVE_LIVE_VM_URL':3000'"
   ]
  }
 ],
 "metadata": {
  "kernelspec": {
   "display_name": "Python 3",
   "language": "python",
   "name": "python3"
  },
  "language_info": {
   "codemirror_mode": {
    "name": "ipython",
    "version": 3
   },
   "file_extension": ".py",
   "mimetype": "text/x-python",
   "name": "python",
   "nbconvert_exporter": "python",
   "pygments_lexer": "ipython3",
   "version": "3.8.2"
  }
 },
 "nbformat": 4,
 "nbformat_minor": 5
}
